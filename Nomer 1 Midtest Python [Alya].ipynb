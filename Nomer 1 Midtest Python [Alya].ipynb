{
  "nbformat": 4,
  "nbformat_minor": 5,
  "metadata": {
    "kernelspec": {
      "display_name": "Python 3",
      "language": "python",
      "name": "python3"
    },
    "language_info": {
      "codemirror_mode": {
        "name": "ipython",
        "version": 3
      },
      "file_extension": ".py",
      "mimetype": "text/x-python",
      "name": "python",
      "nbconvert_exporter": "python",
      "pygments_lexer": "ipython3",
      "version": "3.7.0"
    },
    "colab": {
      "provenance": []
    }
  },
  "cells": [
    {
      "cell_type": "markdown",
      "metadata": {
        "id": "87919d68"
      },
      "source": [
        "### Python 1 : Addition To String"
      ],
      "id": "87919d68"
    },
    {
      "cell_type": "markdown",
      "metadata": {
        "id": "c061c30a"
      },
      "source": [
        "### Task"
      ],
      "id": "c061c30a"
    },
    {
      "cell_type": "markdown",
      "metadata": {
        "id": "66fcf833"
      },
      "source": [
        "Your function name should be `add_str`.\n",
        "\n",
        "Given a string filled with integers separated by comma. Create a new number, whose digits are the integers inside the string. Then, add 1 to the new number. Then, separate the digits again to a string which consits of **single digit of\n",
        "integers**, separated by comma. This new string will be your output string. The output string **should not have zero as its first character**.  See the examples for clearer understanding."
      ],
      "id": "66fcf833"
    },
    {
      "cell_type": "markdown",
      "metadata": {
        "id": "aee24374"
      },
      "source": [
        "### Example 1:\n",
        "\n",
        "- Input = `'1,3,5'`\n",
        "- Output = `'1,3,6'`\n",
        "\n",
        "Since the input is `'1,3,5'`, then the new number created is 135. Add 135 with 1 so it becomes 136. Then, separate back 136 into each individual digits separated by comma. This becomes `'1,3,6'`. So, the expected output of your solution is `'1,3,6'`"
      ],
      "id": "aee24374"
    },
    {
      "cell_type": "markdown",
      "metadata": {
        "id": "e85af386"
      },
      "source": [
        "### Example 2:\n",
        "\n",
        "- Input = `'1,3,39'`\n",
        "- Output = `'1,3,4,0'`\n",
        "\n",
        "Since the input is `'1,3,39'`, then the new number created is 1339. Add 1339 with 1 so it becomes 1340. Then, separate back 1340 into each individual digits separated by comma. This becomes `'1,3,4,0'`. So, the expected output of your solution is `'1,3,4,0'`"
      ],
      "id": "e85af386"
    },
    {
      "cell_type": "markdown",
      "metadata": {
        "id": "bbeb3f41"
      },
      "source": [
        "### Example 1:\n",
        "\n",
        "- Input = `'0,1,3,39'`\n",
        "- Output = `'1,3,4,0'`\n",
        "\n",
        "Since the input is `'0,1,3,39'`, then the new number created is 1339. Add 1339 with 1 so it becomes 1340. Then, separate back 1340 into each individual digits separated by comma. This becomes `'1,3,4,0'`. So, the expected output of your solution is `'1,3,4,0'`. Remember, do not put a 'zero' in the beginning of your output."
      ],
      "id": "bbeb3f41"
    },
    {
      "cell_type": "markdown",
      "metadata": {
        "id": "e7807496"
      },
      "source": [
        "### Input Format\n",
        "\n",
        "The input is in the shape of a string."
      ],
      "id": "e7807496"
    },
    {
      "cell_type": "markdown",
      "metadata": {
        "id": "e9f0d6c5"
      },
      "source": [
        "### Output Format\n",
        "\n",
        "The output is in the shape of a string."
      ],
      "id": "e9f0d6c5"
    },
    {
      "cell_type": "markdown",
      "metadata": {
        "id": "f9173e59"
      },
      "source": [
        "### Sample Input"
      ],
      "id": "f9173e59"
    },
    {
      "cell_type": "markdown",
      "metadata": {
        "id": "c0526b8c"
      },
      "source": [
        "`'1,5,1,9'`"
      ],
      "id": "c0526b8c"
    },
    {
      "cell_type": "markdown",
      "metadata": {
        "id": "71fad9f8"
      },
      "source": [
        "### Sample Output\n",
        "`'1,5,2,0'`"
      ],
      "id": "71fad9f8"
    },
    {
      "cell_type": "markdown",
      "metadata": {
        "id": "8306d027"
      },
      "source": [
        "### Space for Work"
      ],
      "id": "8306d027"
    },
    {
      "cell_type": "code",
      "source": [
        "def add_str(input_str):\n",
        "    # Memisahkan angka-angka dalam string menggunakan koma\n",
        "    new_number = int(''.join(input_str.split(','))) + 1\n",
        "\n",
        "    # Menjadikan angka baru sebagai string\n",
        "    new_str = str(new_number)\n",
        "\n",
        "    # Memisahkan setiap digit angka baru dengan menggunakan koma sebagai delimiter\n",
        "    output_str = ','.join(new_str)\n",
        "\n",
        "    # Memeriksa apakah angka pertama dalam string output adalah '0'\n",
        "    # Jika ya, menghapus '0' tersebut\n",
        "    if output_str.startswith('0'):\n",
        "        output_str = output_str[1:]\n",
        "\n",
        "    return output_str\n"
      ],
      "metadata": {
        "id": "g6SRgxaqpPMa"
      },
      "id": "g6SRgxaqpPMa",
      "execution_count": 7,
      "outputs": []
    },
    {
      "cell_type": "code",
      "source": [
        "input_str = '1,5,1,9'\n",
        "output_str = add_str(input_str)\n",
        "print(output_str)"
      ],
      "metadata": {
        "id": "eIBAT-H5pT0w",
        "outputId": "ac6cde62-0fe6-40f7-ec2a-2001052b5af5",
        "colab": {
          "base_uri": "https://localhost:8080/"
        }
      },
      "id": "eIBAT-H5pT0w",
      "execution_count": 8,
      "outputs": [
        {
          "output_type": "stream",
          "name": "stdout",
          "text": [
            "1,5,2,0\n"
          ]
        }
      ]
    },
    {
      "cell_type": "markdown",
      "source": [
        "EXAMPLE"
      ],
      "metadata": {
        "id": "clOaQxsOqjcG"
      },
      "id": "clOaQxsOqjcG"
    },
    {
      "cell_type": "code",
      "source": [
        "input_str = '1,3,5'\n",
        "output2_str = add_str(input_str)\n",
        "print(output2_str)"
      ],
      "metadata": {
        "id": "RJJ5s6swqm2U",
        "outputId": "1a00fca6-8a2c-42d8-8947-0b1fbbb338a8",
        "colab": {
          "base_uri": "https://localhost:8080/"
        }
      },
      "id": "RJJ5s6swqm2U",
      "execution_count": 9,
      "outputs": [
        {
          "output_type": "stream",
          "name": "stdout",
          "text": [
            "1,3,6\n"
          ]
        }
      ]
    },
    {
      "cell_type": "code",
      "source": [
        "input_str = '1,3,39'\n",
        "output3_str = add_str(input_str)\n",
        "print(output3_str)"
      ],
      "metadata": {
        "id": "eGVpN1eiq0Tp",
        "outputId": "9f25fb24-45dd-4fbe-c45e-a1368729936d",
        "colab": {
          "base_uri": "https://localhost:8080/"
        }
      },
      "id": "eGVpN1eiq0Tp",
      "execution_count": 10,
      "outputs": [
        {
          "output_type": "stream",
          "name": "stdout",
          "text": [
            "1,3,4,0\n"
          ]
        }
      ]
    },
    {
      "cell_type": "code",
      "source": [
        "input_str = '0,1,3,39'\n",
        "output4_str = add_str(input_str)\n",
        "print(output4_str)"
      ],
      "metadata": {
        "id": "UFiTVdvfq97_",
        "outputId": "bf0a69bb-0fe1-4474-8e3a-cb23576f333a",
        "colab": {
          "base_uri": "https://localhost:8080/"
        }
      },
      "id": "UFiTVdvfq97_",
      "execution_count": 12,
      "outputs": [
        {
          "output_type": "stream",
          "name": "stdout",
          "text": [
            "1,3,4,0\n"
          ]
        }
      ]
    }
  ]
}